{
 "cells": [
  {
   "cell_type": "markdown",
   "metadata": {},
   "source": [
    "# Chapter 4: Creating a Binomia Probability Distribution"
   ]
  },
  {
   "cell_type": "markdown",
   "metadata": {},
   "source": [
    "## Exercises"
   ]
  },
  {
   "cell_type": "markdown",
   "metadata": {},
   "source": [
    "1.  What are the parameters of the binomial distribution for the probability of rolling either a 1 or a 20 on a 20-sided die, if we roll the die 12 times?\n",
    "2.  There are four aces in a deck of 52 cards.  If you pull a card, return the card, then reshuffle and pull a card again, how many ways can you pull just one ace in five pulls?\n",
    "3.  For the example in question 2, what is the probability of pulling five aces in 10 pulls (remember the card is shuffled back in the deck when it is pulled)?\n",
    "4.  When you're searching for a new job, it's always helpful to have more than one offer on the table so you can use it in negoitations.  If you have a 1/5 probability of receiving a job offer when you interview, and you interview iwth seven companies in a month, what is the probability that you'll have at least two competing offers by the end of the month?\n",
    "5. You get a bunch of recruiter emails and find ot you have 25 interviews lined up in the next month.  Unfortunately, you know this will leave you exhausted, and the probability of getting an offer will drop to 1/10 if you're tired.  You really don't want to go on this many interviews unless you are at least twice as likely to get at least two competing offers.  Are you more likely to get at least two offers if you go for 25 interviews, or stick to just 7?\n"
   ]
  },
  {
   "cell_type": "markdown",
   "metadata": {},
   "source": [
    "## Responses"
   ]
  },
  {
   "cell_type": "markdown",
   "metadata": {},
   "source": [
    "### Problem 1"
   ]
  },
  {
   "cell_type": "code",
   "execution_count": 8,
   "metadata": {},
   "outputs": [],
   "source": [
    "from math import comb"
   ]
  },
  {
   "cell_type": "markdown",
   "metadata": {},
   "source": [
    "> 1.  What are the parameters of the binomial distribution for the probability of rolling either a 1 or a 20 on a 20-sided die, if we roll the die 12 times?\n",
    "\n",
    "$$\n",
    "B(k;n,p)\n",
    "$$\n",
    "\n",
    "$$\n",
    "B(1; 12, \\frac{1}{20})\n",
    "$$"
   ]
  },
  {
   "cell_type": "markdown",
   "metadata": {},
   "source": [
    "### Problem 2"
   ]
  },
  {
   "cell_type": "markdown",
   "metadata": {},
   "source": [
    ">  2.  There are four aces in a deck of 52 cards.  If you pull a card, return the card, then reshuffle and pull a card again, how many ways can you pull just one ace in five pulls?\n",
    "\n",
    "This requires 1 ace card and 4 non-ace cards in any order, so there are five "
   ]
  },
  {
   "cell_type": "markdown",
   "metadata": {},
   "source": [
    "### Problem 3"
   ]
  },
  {
   "cell_type": "markdown",
   "metadata": {},
   "source": [
    "> 3.  For the example in question 2, what is the probability of pulling five aces in 10 pulls (remember the card is shuffled back in the deck when it is pulled)?\n",
    "\n",
    "$$\n",
    "B(k;n,p)= {n \\choose k} \\times p^k \\times (1-p)^{n-k}\n",
    "$$\n",
    "\n",
    "$$\n",
    "B\\left(5;10,\\frac{1}{13}\\right)={10 \\choose 5 } \\times \\left({\\frac{1}{13}}\\right)^5 \\times \\left({\\frac{12}{13}}\\right)^5\n",
    "$$\n",
    "\n",
    "$$\n",
    "B\\left(5;10,\\frac{1}{13}\\right) = \\frac{62705664}{137858491849} \\cong 0.045\\%"
   ]
  },
  {
   "cell_type": "markdown",
   "metadata": {},
   "source": [
    "### Problem 4"
   ]
  },
  {
   "cell_type": "markdown",
   "metadata": {},
   "source": [
    "> 4.  When you're searching for a new job, it's always helpful to have more than one offer on the table so you can use it in negoitations.  If you have a 1/5 probability of receiving a job offer when you interview, and you interview with seven companies in a month, what is the probability that you'll have at least two competing offers by the end of the month?\n",
    "\n",
    "$$\n",
    "\\sum\\limits_{k = 2}^7 {{7 \\choose k} \\times {{\\left( {\\frac{1}{5}} \\right)}^k} \\times {{\\left( {\\frac{1}{5}} \\right)}^{7 - k}}}"
   ]
  },
  {
   "cell_type": "code",
   "execution_count": 9,
   "metadata": {},
   "outputs": [
    {
     "name": "stdout",
     "output_type": "stream",
     "text": [
      "The chance of getting 2 or more interviews in 7 applications with a 1/5 chance per application is: 42.33%\n"
     ]
    }
   ],
   "source": [
    "p = 1/5\n",
    "n = 7\n",
    "m = 2\n",
    "r = range(m, n+1)\n",
    "\n",
    "res = sum((comb(n, k) * pow(p, k) * pow(1-p, n-k) for k in r))\n",
    "\n",
    "print(f\"The chance of getting 2 or more interviews in 7 applications with a 1/5 chance per application is: {round(res*100, 2)}%\")\n",
    "    "
   ]
  },
  {
   "cell_type": "markdown",
   "metadata": {},
   "source": [
    "### Problem 5"
   ]
  },
  {
   "cell_type": "markdown",
   "metadata": {},
   "source": [
    "> 5. You get a bunch of recruiter emails and find ot you have 25 interviews lined up in the next month.  Unfortunately, you know this will leave you exhausted, and the probability of getting an offer will drop to 1/10 if you're tired.  You really don't want to go on this many interviews unless you are at least twice as likely to get at least two competing offers.  Are you more likely to get at least two offers if you go for 25 interviews, or stick to just 7?"
   ]
  },
  {
   "cell_type": "code",
   "execution_count": 10,
   "metadata": {},
   "outputs": [
    {
     "name": "stdout",
     "output_type": "stream",
     "text": [
      "The chance of getting 2 or more interviews in 25 applications with a 1/10 chance per application is: 72.88%\n",
      " The difference factor between 25 tired interviews and 7 rested interviews is 1.7217647512082543\n",
      "You should stick to 7 interviews\n"
     ]
    }
   ],
   "source": [
    "p = 1/10\n",
    "n = 25\n",
    "m = 2\n",
    "r = range(m, n+1)\n",
    "\n",
    "res25 = sum((comb(n, k) * pow(p, k) * pow(1-p, n-k) for k in r))\n",
    "fac=res25/res\n",
    "\n",
    "print(f\"The chance of getting 2 or more interviews in 25 applications with a 1/10 chance per application is: {round(res25*100, 2)}%\")\n",
    "print(f\"The difference factor between 25 tired interviews and 7 rested interviews is {fac}\")\n",
    "if fac >= 2:\n",
    "    print(\"You should do 25 interviews\")\n",
    "else:\n",
    "    print(\"You should stick to 7 interviews\")"
   ]
  }
 ],
 "metadata": {
  "kernelspec": {
   "display_name": "Python 3.11.0 ('venv': venv)",
   "language": "python",
   "name": "python3"
  },
  "language_info": {
   "codemirror_mode": {
    "name": "ipython",
    "version": 3
   },
   "file_extension": ".py",
   "mimetype": "text/x-python",
   "name": "python",
   "nbconvert_exporter": "python",
   "pygments_lexer": "ipython3",
   "version": "3.11.0"
  },
  "orig_nbformat": 4,
  "vscode": {
   "interpreter": {
    "hash": "aef0069fb6457d40f705e96319703b71b068eeda0380f823a1ec22e09fd88820"
   }
  }
 },
 "nbformat": 4,
 "nbformat_minor": 2
}
