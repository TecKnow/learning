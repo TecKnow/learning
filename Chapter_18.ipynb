{
 "cells": [
  {
   "cell_type": "markdown",
   "metadata": {},
   "source": [
    "# Chapter 18: When Data Doesn't Convince You"
   ]
  },
  {
   "attachments": {},
   "cell_type": "markdown",
   "metadata": {},
   "source": [
    "## Exercises"
   ]
  },
  {
   "attachments": {},
   "cell_type": "markdown",
   "metadata": {},
   "source": [
    "1.  When two hypotheses explain the data equally well, one way to change our minds is to see if we can attack the prior probability. What are some factors that might increase your prior belief in your friend’s psychic powers?\n",
    "\n",
    "2.  An experiment claims that when people hear the word *Florida*, they think of the elderly and this has an impact on their walking speed. To test this, we have two groups of 15 students walk across a room; one group hears the word *Florida* and one does not. Assume $H1$ = the groups don’t move at different speeds, and $H2$ = the Florida group is slower because of hearing the word *Florida*. Also assume:\n",
    "\n",
    "    $$BF = \\frac{{P\\left( {D|{H_1}} \\right)}}{{P\\left( {D|{H_2}} \\right)}}$$\n",
    "\n",
    "    The experiment shows that $H_2$ has a Bayes factor of 19.  Suppose someone is unconvinced by this experiment because $H_2$ had a lower prior odds.  What prior odds would explains omeone being unconvinced and what would the BF need to be to bring the posterior odds to 50 for this unconvinced person?\n",
    "\n",
    "    Now suppose the prior odds do not change the skeptic's mind.  Think of an alternate $H_3$ that explains the observation that the florida group is slower.  Remember if $H_2$ and $H_3$ both explain the data equally well, only prior odds in favor of $h_3$ would lead someone to claim $H_3$ is true over $H_2$ so we need to rethink the experiment so that these odds are decreased.  come up with an experiment that could change the prior odds in $H_3$ over $H_2$."
   ]
  },
  {
   "attachments": {},
   "cell_type": "markdown",
   "metadata": {},
   "source": [
    "### Exercise 1"
   ]
  },
  {
   "attachments": {},
   "cell_type": "markdown",
   "metadata": {},
   "source": [
    ">  1.  When two hypotheses explain the data equally well, one way to change our minds is to see if we can attack the prior probability. What are \n",
    "       some factors that might increase your prior belief in your friend’s psychic powers?"
   ]
  },
  {
   "attachments": {},
   "cell_type": "markdown",
   "metadata": {},
   "source": [
    "I'm personally disinclined to beleive in the paranormal.  I'd want to see them convince other people, particularly by predicting what other people were going to roll, perhaps remote people, perhaps on a much larger die like a d20 or a d100."
   ]
  },
  {
   "attachments": {},
   "cell_type": "markdown",
   "metadata": {},
   "source": [
    "### Exercise 2"
   ]
  },
  {
   "attachments": {},
   "cell_type": "markdown",
   "metadata": {},
   "source": [
    ">  2.  An experiment claims that when people hear the word *Florida*, they think of the elderly and this has an impact on their walking speed. To test \n",
    "       this, we have two groups of 15 students walk across a room; one group hears the word *Florida* and one does not. Assume $H1$ = the groups don’t move at different speeds, and $H2$ = the Florida group is slower because of hearing the word *Florida*. Also assume:\n",
    ">\n",
    ">      $$BF = \\frac{{P\\left( {D|{H_1}} \\right)}}{{P\\left( {D|{H_2}} \\right)}}$$\n",
    ">\n",
    ">      The experiment shows that $H_2$ has a Bayes factor of 19.  Suppose someone is unconvinced by this experiment because $H_2$ had a lower prior   \n",
    "       odds.  What prior odds would explains someone being unconvinced and what would the BF need to be to bring the posterior odds to 50 for this unconvinced person?\n",
    ">      \n",
    ">      Now suppose the prior odds do not change the skeptic's mind.  Think of an alternate $H_3$ that explains the observation that the florida group \n",
    "       is slower.  Remember if $H_2$ and $H_3$ both explain the data equally well, only prior odds in favor of $h_3$ would lead someone to claim $H_3$ is true over $H_2$ so we need to rethink the experiment so that these odds are decreased.  come up with an experiment that could change the prior odds in $H_3$ over $H_2$."
   ]
  },
  {
   "attachments": {},
   "cell_type": "markdown",
   "metadata": {},
   "source": [
    "If the Bayes factor of the experiment is 19 and someone is unconvincied, their prior odds must be at least $\\frac{1}{19}$ against.  They would need $BF=19 \\times 50$ or at least $BF=950$ to bring their posterior odds to 50.\n",
    "\n",
    "Groups of fifteen students just aren't very large, probably at most a single section of a single class and often far less than that.  The groups could simply differ by chance.  Or, if each group of 15 was a different section of a class, they might have been at different times of day.  I'm sure that a morning class compared to an eavinging class is more likely to make a difference than simply hearing the world *Florida.*\n",
    "\n",
    "If you wanted to increase my opinion of the significance of the result, you'd need larger groups and more repetittions."
   ]
  }
 ],
 "metadata": {
  "kernelspec": {
   "display_name": "venv",
   "language": "python",
   "name": "python3"
  },
  "language_info": {
   "name": "python",
   "version": "3.11.0 (main, Oct 24 2022, 18:26:48) [MSC v.1933 64 bit (AMD64)]"
  },
  "orig_nbformat": 4,
  "vscode": {
   "interpreter": {
    "hash": "aef0069fb6457d40f705e96319703b71b068eeda0380f823a1ec22e09fd88820"
   }
  }
 },
 "nbformat": 4,
 "nbformat_minor": 2
}
