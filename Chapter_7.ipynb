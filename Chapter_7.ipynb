{
 "cells": [
  {
   "cell_type": "markdown",
   "metadata": {},
   "source": [
    "# Chapter 7: Bayes' Theorem with Lego"
   ]
  },
  {
   "cell_type": "markdown",
   "metadata": {},
   "source": [
    "## Exercises"
   ]
  },
  {
   "cell_type": "markdown",
   "metadata": {},
   "source": [
    "1. Kansas City, despite its name, sits on the border of two US states: Missouri and Kansas. The Kansas City metropolitan area consists of 15 counties, 9 in Missouri and 6 in Kansas. The entire state of Kansas has 105 counties and Missouri has 114. Use Bayes’ theorem to calculate the probability that a relative who just moved to a county in the Kansas City metropolitan area also lives in a county in Kansas. Make sure to show P( Kansas) (assuming your relative either lives in Kansas or Missouri), P( Kansas City metropolitan area), and P( Kansas City metropolitan area | Kansas).\n",
    "2. A deck of cards has 52 cards with suits that are either red or black. There are four aces in a deck of cards: two red and two black. You remove a red ace from the deck and shuffle the cards. Your friend pulls a black card. What is the probability that it is an ace?"
   ]
  },
  {
   "cell_type": "markdown",
   "metadata": {},
   "source": [
    "## Responses"
   ]
  },
  {
   "cell_type": "markdown",
   "metadata": {},
   "source": [
    "### Bayes' Theorem"
   ]
  },
  {
   "cell_type": "markdown",
   "metadata": {},
   "source": [
    "$$\n",
    "P\\left({A | B} \\right) = \\frac{P\\left({B|A}\\right) \\times P\\left({A}\\right)}{P\\left( {B}\\right)}"
   ]
  },
  {
   "cell_type": "markdown",
   "metadata": {},
   "source": [
    "### Exercise 1"
   ]
  },
  {
   "cell_type": "markdown",
   "metadata": {},
   "source": [
    "> 1. Kansas City, despite its name, sits on the border of two US states: Missouri and Kansas. The Kansas City metropolitan area consists of 15 counties, 9 in Missouri and 6 in Kansas. The entire state of Kansas has 105 counties and Missouri has 114. Use Bayes’ theorem to calculate the probability that a relative who just moved to a county in the Kansas City metropolitan area also lives in a county in Kansas. Make sure to show P( Kansas) (assuming your relative either lives in Kansas or Missouri), P( Kansas City metropolitan area), and P( Kansas City metropolitan area | Kansas)."
   ]
  },
  {
   "cell_type": "markdown",
   "metadata": {},
   "source": [
    "Let the following:\n",
    "* $P(KS | KC) = \\frac{6}{15}$\n",
    "* $P(MO | KC) = \\frac{9}{15}$\n",
    "* $P(KS|{KS \\vee MO}) = \\frac{105}{105+114} = \\frac{35}{73}$\n",
    "* $P(KC|KS) = \\frac{6}{105}=\\frac{2}{35}$\n",
    "* $P(KC|{KS \\vee MO}) = \\frac{15}{105+114}=\\frac{5}{73}$\n",
    "\n",
    "$$\n",
    "P(KS|KC)=\\frac{P(KC|KS) \\times P(KS)}{P(KC)}\n",
    "$$\n",
    "\n",
    "$$\n",
    "P(KS|KC) = \\frac{\\frac{2}{35} \\times \\frac{35}{73}}{\\frac{5}{73}}=\\frac{2}{5}"
   ]
  },
  {
   "cell_type": "markdown",
   "metadata": {},
   "source": [
    "### Exercise 3"
   ]
  },
  {
   "cell_type": "markdown",
   "metadata": {},
   "source": [
    "> 2. A deck of cards has 52 cards with suits that are either red or black. There are four aces in a deck of cards: two red and two black. You remove a red ace from the deck and shuffle the cards. Your friend pulls a black card. What is the probability that it is an ace?"
   ]
  },
  {
   "cell_type": "markdown",
   "metadata": {},
   "source": [
    "Let the following:\n",
    "\n",
    "* $P(B)=\\frac{25}{51}$\n",
    "* $P(A) = \\frac{3}{51}$\n",
    "* $P(A|B) = \\frac{1}{25}$\n",
    "* $P(B|A) = \\frac{1}{3}$\n",
    "\n",
    "$$\n",
    "P(A|B)=\\frac{P(B|A) \\times P(A)}{P(B)}\n",
    "$$\n",
    "\n",
    "$$\n",
    "P(A|B) = \\frac{\\frac{1}{3} \\times \\frac{3}{51}}{\\frac{25}{51}}=\\frac{1}{25}"
   ]
  },
  {
   "cell_type": "markdown",
   "metadata": {},
   "source": []
  }
 ],
 "metadata": {
  "kernelspec": {
   "display_name": "Python 3.11.0 ('venv': venv)",
   "language": "python",
   "name": "python3"
  },
  "language_info": {
   "codemirror_mode": {
    "name": "ipython",
    "version": 3
   },
   "file_extension": ".py",
   "mimetype": "text/x-python",
   "name": "python",
   "nbconvert_exporter": "python",
   "pygments_lexer": "ipython3",
   "version": "3.11.0"
  },
  "orig_nbformat": 4,
  "vscode": {
   "interpreter": {
    "hash": "aef0069fb6457d40f705e96319703b71b068eeda0380f823a1ec22e09fd88820"
   }
  }
 },
 "nbformat": 4,
 "nbformat_minor": 2
}
