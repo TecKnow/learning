{
 "cells": [
  {
   "cell_type": "markdown",
   "metadata": {},
   "source": [
    "# Chapter 5: The Beta Distribution"
   ]
  },
  {
   "cell_type": "code",
   "execution_count": 15,
   "metadata": {},
   "outputs": [],
   "source": [
    "import matplotlib.pyplot as plt\n",
    "import numpy as np\n",
    "from scipy.stats import beta, binom"
   ]
  },
  {
   "cell_type": "markdown",
   "metadata": {},
   "source": [
    "## Examples"
   ]
  },
  {
   "cell_type": "markdown",
   "metadata": {},
   "source": [
    "I've decided to work with the SciPy package, even though the book uses the R language.  Since I'm not familiar with the package, I've decided to work along with some of the eamples from the chapter so that I can make sure I get the same results."
   ]
  },
  {
   "cell_type": "markdown",
   "metadata": {},
   "source": [
    "### A Strange Scenario"
   ]
  },
  {
   "cell_type": "markdown",
   "metadata": {},
   "source": [
    "Consider the following observations\n",
    "* 14 wins\n",
    "* 27 losses\n",
    "* 41 total trials\n",
    "\n",
    "Find the probability of those observations under each hypothesis:\n",
    "* $H_1$: $P(w)=\\frac{1}{2}$\n",
    "* $H_2$: $P(w)=\\frac{14}{41}$\n",
    "\n",
    "To do this, find the following:\n",
    "\n",
    "$$\n",
    "P(D|H_1) = B\\left({14; 41, \\frac{1}{2}} \\right)\n",
    "$$\n",
    "\n",
    "$$\n",
    "P(D|H_2) = B\\left({14; 41, \\frac{14}{41}} \\right)\n",
    "$$"
   ]
  },
  {
   "cell_type": "code",
   "execution_count": 21,
   "metadata": {},
   "outputs": [
    {
     "name": "stdout",
     "output_type": "stream",
     "text": [
      "P(D|H_1): 0.016\n",
      "P(D|H_2): 0.13\n"
     ]
    }
   ],
   "source": [
    "k=14\n",
    "n = 41\n",
    "p1 = 1/2\n",
    "p2 = 14/41\n",
    "\n",
    "h1 = binom.pmf(k, n, p1)\n",
    "h2 = binom.pmf(k,n, p2)\n",
    "\n",
    "print(f\"P(D|H_1): {round(h1, 3)}\")\n",
    "print(f\"P(D|H_2): {round(h2,3)}\")"
   ]
  },
  {
   "cell_type": "code",
   "execution_count": 28,
   "metadata": {},
   "outputs": [
    {
     "data": {
      "image/png": "[encoded data removed]",
      "text/plain": [
       "<Figure size 640x480 with 1 Axes>"
      ]
     },
     "metadata": {},
     "output_type": "display_data"
    }
   ],
   "source": [
    "a=14\n",
    "b=27\n",
    "\n",
    "fig, ax = plt.subplots(1,1)\n",
    "\n",
    "x = np.linspace(0, 1, 100)\n",
    "\n",
    "ax.plot(x, beta.pdf(x, a, b), 'r-', lw=5, alpha=0.6, label=\"beta pdf\")\n",
    "plt.show()"
   ]
  },
  {
   "cell_type": "code",
   "execution_count": 33,
   "metadata": {},
   "outputs": [
    {
     "name": "stdout",
     "output_type": "stream",
     "text": [
      "The probability that the rate of success is less than 1/2 is: 0.981\n"
     ]
    }
   ],
   "source": [
    "p_h1 = beta.cdf(1/2, a, b)\n",
    "print(f\"The probability that the rate of success is less than 1/2 is: {round(p_h1,3)}\")"
   ]
  },
  {
   "cell_type": "markdown",
   "metadata": {},
   "source": [
    "## Exercises"
   ]
  },
  {
   "cell_type": "markdown",
   "metadata": {},
   "source": [
    "1.  You want to use the beta distribution to determine whether or not a coin you have is a fair coin - meaning that the coin gives you heads and tails equally. You flip the coin 10 times and get 4 heads and 6 tails. Using the beta distribution, what is the probability that the coin will land on heads more than 60 percent of the time? \n",
    "2.  You flip the coin 10 more times and now have 9 heads and 11 tails total. What is the probability that the coin is fair, using our definition of fair, give or take 5 percent? Data is the best way to become more confident in your assertions. You flip the coin 200 more times and end up with 109 heads and 111 tails. Now what is the probability that the coin is fair, give or take 5 percent?"
   ]
  },
  {
   "cell_type": "markdown",
   "metadata": {},
   "source": [
    "## Responses"
   ]
  },
  {
   "cell_type": "markdown",
   "metadata": {},
   "source": [
    "### Exercise 1"
   ]
  },
  {
   "cell_type": "markdown",
   "metadata": {},
   "source": [
    "> 1.  You want to use the beta distribution to determine whether or not a coin you have is a fair coin - meaning that the coin gives you heads and tails equally. You flip the coin 10 times and get 4 heads and 6 tails. Using the beta distribution, what is the probability that the coin will land on heads more than 60 percent of the time? "
   ]
  },
  {
   "cell_type": "markdown",
   "metadata": {},
   "source": [
    "### Exercise 2"
   ]
  },
  {
   "cell_type": "markdown",
   "metadata": {},
   "source": [
    "> 2.  You flip the coin 10 more times and now have 9 heads and 11 tails total. What is the probability that the coin is fair, using our definition of fair, give or take 5 percent? Data is the best way to become more confident in your assertions. You flip the coin 200 more times and end up with 109 heads and 111 tails. Now what is the probability that the coin is fair, give or take 5 percent?"
   ]
  }
 ],
 "metadata": {
  "kernelspec": {
   "display_name": "Python 3.11.0 ('venv': venv)",
   "language": "python",
   "name": "python3"
  },
  "language_info": {
   "codemirror_mode": {
    "name": "ipython",
    "version": 3
   },
   "file_extension": ".py",
   "mimetype": "text/x-python",
   "name": "python",
   "nbconvert_exporter": "python",
   "pygments_lexer": "ipython3",
   "version": "3.11.0"
  },
  "orig_nbformat": 4,
  "vscode": {
   "interpreter": {
    "hash": "aef0069fb6457d40f705e96319703b71b068eeda0380f823a1ec22e09fd88820"
   }
  }
 },
 "nbformat": 4,
 "nbformat_minor": 2
}
