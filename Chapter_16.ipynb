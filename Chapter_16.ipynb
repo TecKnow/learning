{
 "cells": [
  {
   "attachments": {},
   "cell_type": "markdown",
   "metadata": {},
   "source": [
    "# Introduction to the Bayes Factor and Posterior Odds;  The Competition of Ideas"
   ]
  },
  {
   "attachments": {},
   "cell_type": "markdown",
   "metadata": {},
   "source": [
    "## Examples"
   ]
  },
  {
   "attachments": {},
   "cell_type": "markdown",
   "metadata": {},
   "source": [
    "### Bayes' Theorem"
   ]
  },
  {
   "attachments": {},
   "cell_type": "markdown",
   "metadata": {},
   "source": [
    "#### Standard Form"
   ]
  },
  {
   "attachments": {},
   "cell_type": "markdown",
   "metadata": {},
   "source": [
    "$$P\\left( {H|D} \\right) = \\frac{{P\\left( H \\right) \\times P\\left( {D|H} \\right)}}{{P\\left( D \\right)}}$$"
   ]
  },
  {
   "attachments": {},
   "cell_type": "markdown",
   "metadata": {},
   "source": [
    "$${\\rm{Posterior}} = \\frac{{{\\rm{Prior}} \\times {\\rm{Likelihood}}}}{{P\\left( D \\right)}}$$"
   ]
  },
  {
   "attachments": {},
   "cell_type": "markdown",
   "metadata": {},
   "source": [
    "#### Proportional Form"
   ]
  },
  {
   "attachments": {},
   "cell_type": "markdown",
   "metadata": {},
   "source": [
    "$$P\\left( {H|D} \\right) \\propto P\\left( H \\right) \\times P\\left( {D|H} \\right)$$"
   ]
  },
  {
   "attachments": {},
   "cell_type": "markdown",
   "metadata": {},
   "source": [
    "$${\\rm{Posterior}} \\propto {\\rm{Prior}} \\times {\\rm{Likelihood}}$$"
   ]
  },
  {
   "attachments": {},
   "cell_type": "markdown",
   "metadata": {},
   "source": [
    "#### Ratio of Posteriors"
   ]
  },
  {
   "attachments": {},
   "cell_type": "markdown",
   "metadata": {},
   "source": [
    "$$\\frac{{P\\left( {{H_1}} \\right) \\times P\\left( {D|{H_1}} \\right)}}{{P\\left( {{H_2}} \\right) \\times P\\left( {D|{H_2}} \\right)}}$$"
   ]
  },
  {
   "attachments": {},
   "cell_type": "markdown",
   "metadata": {},
   "source": [
    "#### Bayes Factor"
   ]
  },
  {
   "attachments": {},
   "cell_type": "markdown",
   "metadata": {},
   "source": [
    "$$\\frac{{P\\left( {D|{H_1}} \\right)}}{{P\\left( {D|{H_2}} \\right)}}$$"
   ]
  },
  {
   "attachments": {},
   "cell_type": "markdown",
   "metadata": {},
   "source": [
    "#### Prior Odds"
   ]
  },
  {
   "attachments": {},
   "cell_type": "markdown",
   "metadata": {},
   "source": [
    "$$\\frac{{P\\left( {{H_1}} \\right)}}{{P\\left( {{H_2}} \\right)}}$$"
   ]
  },
  {
   "attachments": {},
   "cell_type": "markdown",
   "metadata": {},
   "source": [
    "#### Posterior Odds"
   ]
  },
  {
   "attachments": {},
   "cell_type": "markdown",
   "metadata": {},
   "source": [
    "$${\\textrm{Posterior odds}} = O\\left( {{H_1}} \\right) \\times \\frac{{P\\left( {D|{H_1}} \\right)}}{{P\\left( {D|{H_2}} \\right)}}$$"
   ]
  },
  {
   "attachments": {},
   "cell_type": "markdown",
   "metadata": {},
   "source": [
    "| Posterior odds | Strenght of evidence |\n",
    "|---|---|\n",
    "| 1 to 3 | Interesting but nothing conclusive|\n",
    "| 3 to 20 | Looks like we're on to something | \n",
    "| 20 to 150 | Strong evidence in favor of $H_1$|\n",
    "| >150 | Overwhelming evidence |"
   ]
  },
  {
   "attachments": {},
   "cell_type": "markdown",
   "metadata": {},
   "source": [
    "### Testing for a Loaded Die"
   ]
  },
  {
   "attachments": {},
   "cell_type": "markdown",
   "metadata": {},
   "source": [
    "Suppose your friend has a bag with three six-sided dice in it, and one die is weighted so that it lands on 6 half the time.  The other two are traditional dice whose probability of rolling a 6 is 1/6.  Your friend pulls out a die and rolls it 10 times, with the following results:\n",
    "\n",
    "$$[6,1,3,6,4,5,6,1,2,6]$$"
   ]
  },
  {
   "attachments": {},
   "cell_type": "markdown",
   "metadata": {},
   "source": [
    "Let us label our hypotheses.\n",
    "\n",
    "* $H_1$: The die is loaded\n",
    "* $H_2$: The die is fair"
   ]
  },
  {
   "attachments": {},
   "cell_type": "markdown",
   "metadata": {},
   "source": [
    "Now we work to find the bayes factor:\n",
    "\n",
    "$$\\frac{{P\\left( {D|{H_1}} \\right)}}{{P\\left( {D|{H_2}} \\right)}}$$"
   ]
  },
  {
   "attachments": {},
   "cell_type": "markdown",
   "metadata": {},
   "source": [
    "First we can find $P\\left( {D|{H_1}} \\right)$:\n",
    "\n",
    "$$ P\\left( {D|{H_1}} \\right) = {\\left( {\\frac{1}{2}} \\right)^4} \\times {\\left( {\\frac{1}{2}} \\right)^6} = \\frac{1}{{1024}} \\approx 0.0009765625 $$\n",
    "$$P\\left( {D|{H_2}} \\right) = {\\left( {\\frac{1}{6}} \\right)^4} \\times {\\left( {\\frac{5}{6}} \\right)^6} = \\frac{{15325}}{{60466176}} \\approx 0.000258408932623753$$\n",
    "$$\\frac{{P\\left( {D|{H_1}} \\right)}}{{P\\left( {D|{H_2}} \\right)}} = \\frac{{{{\\left( {\\frac{1}{2}} \\right)}^4} \\times {{\\left( {\\frac{1}{2}} \\right)}^6}}}{{{{\\left( {\\frac{1}{6}} \\right)}^4} \\times {{\\left( {\\frac{5}{6}} \\right)}^6}}} = \\frac{{59049}}{{15625}} \\approx 3.779$$"
   ]
  },
  {
   "attachments": {},
   "cell_type": "markdown",
   "metadata": {},
   "source": [
    "We know the prior probabilities  of the selected die being fair or not:\n",
    "\n",
    "*  $P(H_1)=\\frac{1}{3}$\n",
    "*  $P(H_2)=\\frac{2}{3}$\n",
    "\n",
    "Using this information we can compute the prior odds:\n",
    "\n",
    "$$O\\left( {{H_1}} \\right) = \\frac{{P\\left( {{H_1}} \\right)}}{{P\\left( {{H_2}} \\right)}} = \\frac{{\\frac{1}{3}}}{{\\frac{2}{3}}} = \\frac{1}{2}$$"
   ]
  },
  {
   "attachments": {},
   "cell_type": "markdown",
   "metadata": {},
   "source": [
    "We can now compute the prior odds, not just the Bayes factor.\n",
    "\n",
    "$${\\textrm{posterior odds}} = O\\left( {{H_1}} \\right) \\times \\frac{{P\\left( {D|{H_1}} \\right)}}{{P\\left( {D|{H_2}} \\right)}} = \\frac{1}{2} \\times \\frac{{59049}}{{15625}} = \\frac{{59049}}{{31250}} \\approx 1.889568$$"
   ]
  },
  {
   "attachments": {},
   "cell_type": "markdown",
   "metadata": {},
   "source": [
    "### Self-Diagnosing Rare Diseases Online"
   ]
  },
  {
   "attachments": {},
   "cell_type": "markdown",
   "metadata": {},
   "source": [
    "#### Label the hypotheses"
   ]
  },
  {
   "cell_type": "markdown",
   "metadata": {},
   "source": [
    "\n",
    "*  $H_1$:  Earwax impaction\n",
    "*  $H_2$:  Vestibular schwannoma"
   ]
  },
  {
   "attachments": {},
   "cell_type": "markdown",
   "metadata": {},
   "source": [
    "### Compute the likelihood ratio"
   ]
  },
  {
   "attachments": {},
   "cell_type": "markdown",
   "metadata": {},
   "source": [
    "$$P(D|H_1) = 0.94 \\times 0.83 = 0.78$$\n",
    "$$P(D|H_2) = 0.63 \\times 0.55 = 0.35$$\n",
    "$$\\frac{{P\\left( {D|{H_1}} \\right)}}{{P\\left( {D|{H_2}} \\right)}} = \\frac{{0.78}}{{0.35}} = 2.23$$\n"
   ]
  },
  {
   "attachments": {},
   "cell_type": "markdown",
   "metadata": {},
   "source": [
    "### Determine the prior odds"
   ]
  },
  {
   "attachments": {},
   "cell_type": "markdown",
   "metadata": {},
   "source": [
    "$$P(H_1) = \\frac{11}{1,000,000}$$\n",
    "$$P(H_2) = \\frac{37,000}{1,000,000}$$\n",
    "$$O\\left( {{H_1}} \\right) = \\frac{{P\\left( {{H_1}} \\right)}}{{P\\left( {{H_2}} \\right)}} = \\frac{{\\frac{{11}}{{1000000}}}}{{\\frac{{37000}}{{1000000}}}} = \\frac{{11}}{{37000}}$$"
   ]
  },
  {
   "attachments": {},
   "cell_type": "markdown",
   "metadata": {},
   "source": [
    "### Determine the posterior odds"
   ]
  },
  {
   "attachments": {},
   "cell_type": "markdown",
   "metadata": {},
   "source": [
    "$$S\\left( {{H_1}} \\right) = O\\left( {{H_1}} \\right) \\times \\frac{{P\\left( {D|{H_1}} \\right)}}{{P\\left( {D|{H_2}} \\right)}} = \\frac{{11}}{{37000}} \\times 2.23 = \\frac{{245}}{{370000}}$$\n",
    "$$S(H_2) \\approx 1510$$"
   ]
  },
  {
   "attachments": {},
   "cell_type": "markdown",
   "metadata": {},
   "source": [
    "## Exercises"
   ]
  },
  {
   "attachments": {},
   "cell_type": "markdown",
   "metadata": {},
   "source": [
    "1.  Returning to the dice problem, assume that your friend made a mistake and suddenly realized that there were, in fact, two loaded dice and only one fair die. How does this change the prior, and therefore the posterior odds, for our problem? Are you more willing to believe that the die being rolled is the loaded die? \n",
    "\n",
    "2.  Returning to the rare diseases example, suppose you go to the doctor, and after having your ears cleaned you notice that your symptoms persist. Even worse, you have a new symptom: vertigo. The doctor proposes another possible explanation, labyrinthitis, which is a viral infection of the inner ear in which 98 percent of cases involve vertigo. However, hearing loss and tinnitus are less common in this disease; hearing loss occurs only 30 percent of the time, and tinnitus occurs only 28 percent of the time. Vertigo is also a possible symptom of vestibular schwannoma, but occurs in only 49 percent of cases. In the general population, 35 people per million contract labyrinthitis annually. What is the posterior odds when you compare the hypothesis that you have labyrinthitis against the hypothesis that you have vestibular schwannoma?"
   ]
  },
  {
   "attachments": {},
   "cell_type": "markdown",
   "metadata": {},
   "source": [
    "### Exercise 1"
   ]
  },
  {
   "attachments": {},
   "cell_type": "markdown",
   "metadata": {},
   "source": [
    ">  1.  Returning to the dice problem, assume that your friend made a mistake and suddenly realized that there were, in fact, two loaded dice and only one fair die. How does this change the prior, and therefore the posterior odds, for our problem? Are you more willing to believe that the die being rolled is the loaded die? "
   ]
  },
  {
   "attachments": {},
   "cell_type": "markdown",
   "metadata": {},
   "source": [
    "This changes the prior odds from the example, we now have the following:\n",
    "* $P(H_1) = \\frac{2}{3}$\n",
    "* $P(H_2) = \\frac{1}{3}$"
   ]
  },
  {
   "attachments": {},
   "cell_type": "markdown",
   "metadata": {},
   "source": [
    "$$O\\left( {{H_1}} \\right) = \\frac{{P\\left( {{H_1}} \\right)}}{{P\\left( {{H_2}} \\right)}} = \\frac{{\\frac{2}{3}}}{{\\frac{1}{3}}} = 2$$"
   ]
  },
  {
   "attachments": {},
   "cell_type": "markdown",
   "metadata": {},
   "source": [
    "$${\\textrm{posterior odds}} = O\\left( {{H_1}} \\right) \\times \\frac{{P\\left( {D|{H_1}} \\right)}}{{P\\left( {D|{H_2}} \\right)}} = 2 \\times \\frac{{59049}}{{15625}} = \\frac{{118098}}{{15625}} \\approx 7.558272$$"
   ]
  },
  {
   "attachments": {},
   "cell_type": "markdown",
   "metadata": {},
   "source": [
    "This improves the odds that the selected dice is loaded by a factor of about four and increases our category of suspicion using the table provided earlier."
   ]
  },
  {
   "attachments": {},
   "cell_type": "markdown",
   "metadata": {},
   "source": [
    "### Exercise 2"
   ]
  },
  {
   "attachments": {},
   "cell_type": "markdown",
   "metadata": {},
   "source": [
    ">  2.  Returning to the rare diseases example, suppose you go to the doctor, and after having your ears cleaned you notice that your symptoms persist. Even worse, you have a new symptom: vertigo. The doctor proposes another possible explanation, labyrinthitis, which is a viral infection of the inner ear in which 98 percent of cases involve vertigo. However, hearing loss and tinnitus are less common in this disease; hearing loss occurs only 30 percent of the time, and tinnitus occurs only 28 percent of the time. Vertigo is also a possible symptom of vestibular schwannoma, but occurs in only 49 percent of cases. In the general population, 35 people per million contract labyrinthitis annually. What is the posterior odds when you compare the hypothesis that you have labyrinthitis against the hypothesis that you have vestibular schwannoma?"
   ]
  },
  {
   "attachments": {},
   "cell_type": "markdown",
   "metadata": {},
   "source": [
    "#### Compute the bayes factor"
   ]
  },
  {
   "attachments": {},
   "cell_type": "markdown",
   "metadata": {},
   "source": [
    "$$P\\left( {D|{H_1}} \\right) = 0.94 \\times 0.83 \\times 0.49 = 0.382298$$\n",
    "$$P\\left( {D|{H_3}} \\right) = 0.98 \\times 0.30 \\times 0.28 = 0.08232$$\n",
    "$$\\frac{{P\\left( {D|{H_1}} \\right)}}{{P\\left( {D|{H_3}} \\right)}} = \\frac{{0.382298}}{{0.08232}} \\approx 4.644048$$"
   ]
  },
  {
   "attachments": {},
   "cell_type": "markdown",
   "metadata": {},
   "source": [
    "#### Determine the prior odds"
   ]
  },
  {
   "attachments": {},
   "cell_type": "markdown",
   "metadata": {},
   "source": [
    "$$O\\left( {{H_1}} \\right) = \\frac{{\\frac{{11}}{{1000000}}}}{{\\frac{{35}}{{1000000}}}} = \\frac{{11}}{{35}} \\approx 0.3142857$$"
   ]
  },
  {
   "attachments": {},
   "cell_type": "markdown",
   "metadata": {},
   "source": [
    "#### Determine the posterior odds"
   ]
  },
  {
   "attachments": {},
   "cell_type": "markdown",
   "metadata": {},
   "source": [
    "$${S_{{H_1}}} = O\\left( {{H_1}} \\right) \\times L\\left( {{H_1}} \\right) = 0.3142857 \\times 4.644048 = 1.459558$$"
   ]
  }
 ],
 "metadata": {
  "kernelspec": {
   "display_name": "venv",
   "language": "python",
   "name": "python3"
  },
  "language_info": {
   "name": "python",
   "version": "3.11.0 (main, Oct 24 2022, 18:26:48) [MSC v.1933 64 bit (AMD64)]"
  },
  "orig_nbformat": 4,
  "vscode": {
   "interpreter": {
    "hash": "aef0069fb6457d40f705e96319703b71b068eeda0380f823a1ec22e09fd88820"
   }
  }
 },
 "nbformat": 4,
 "nbformat_minor": 2
}
