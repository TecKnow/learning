{
 "cells": [
  {
   "cell_type": "markdown",
   "metadata": {},
   "source": [
    "# Chapter 3: The Logic of Uncertainty\n"
   ]
  },
  {
   "cell_type": "markdown",
   "metadata": {},
   "source": [
    "## Exercises"
   ]
  },
  {
   "cell_type": "markdown",
   "metadata": {},
   "source": [
    "1. What is the probability of rolling a 20 three times in a row on a 20-sided die?\n",
    "2. The weather report says there's a 10 percent chance of rain tomorrow, and you forget your umbrella half the time you go out.  What is the pobability that you'll be caught in the rain without an umbrella tomorrow?\n",
    "3. Raw eggs have a 1/20,000 probability of having salmonella.  IF you eat two raw eggs, what is the probability that you ate a raw egg with salmonella?\n",
    "4. What is the probability of either flipping two heads in two coin tosses or rolling three 6s on three six-sided dice?"
   ]
  },
  {
   "cell_type": "markdown",
   "metadata": {},
   "source": [
    "## Responses"
   ]
  },
  {
   "cell_type": "markdown",
   "metadata": {},
   "source": [
    "### Exercise 1"
   ]
  },
  {
   "cell_type": "markdown",
   "metadata": {},
   "source": [
    "> 1. What is the probability of rolling a 20 three times in a row on a 20-sided die?\n",
    "\n",
    "There is a 1/20 or 5% chance of rolling a 20 on a 20-sided die.  To do this three times in a row, these probabilities must be combined with AND, as below:\n",
    "\n",
    "$$\n",
    "P(three_twenties)= \\frac{1}{20} \\times \\frac{1}{20} \\times \\frac{1}{20} = \\frac{1}{20^3} = \\frac{1}{8000}\n",
    "$$\n",
    "\n"
   ]
  },
  {
   "cell_type": "markdown",
   "metadata": {},
   "source": [
    "### Exercise 2"
   ]
  },
  {
   "cell_type": "markdown",
   "metadata": {},
   "source": [
    "> 2. The weather report says there's a 10 percent chance of rain tomorrow, and you forget your umbrella half the time you go out.  What is the pobability that you'll be caught in the rain without an umbrella tomorrow?\n",
    "\n",
    "For the outcome to happen, both conditions must happen.  These probabilities should be combined with AND, as follows:\n",
    "\n",
    "Let the following:\n",
    "\n",
    "1. $P(R)$: The probability that it rains tomorrow, 10%.\n",
    "2. $P(F)$: The probability that you forget your umbrella, 50%.\n",
    "3. $P(C)$: The probabillity that you get caught in the rain tomorrow.\n",
    "\n",
    "$$\n",
    "P(C)=P(R) \\times P(F)= 10\\% \\times 50\\%=5\\%\n",
    "$$"
   ]
  },
  {
   "cell_type": "markdown",
   "metadata": {},
   "source": [
    "### Exercise 3"
   ]
  },
  {
   "cell_type": "markdown",
   "metadata": {},
   "source": [
    "> 3. Raw eggs have a 1/20,000 probability of having salmonella.  IF you eat two raw eggs, what is the probability that you ate a raw egg with salmonella?\n",
    "\n",
    "Only one of these events needs to happen to cause the outcome of concern.  This means that they must be combined with OR and we must be sure not to double-count the possiblity that both events happen.\n",
    "\n",
    "Let $P(E)$ be the probability that an egg has salmonella.\n",
    "Let $P(C)$ be the chance of consuming an egg with salmonella.\n",
    "\n",
    "$$\n",
    "\\begin{array}{l}P\\left( C \\right) = P\\left( E \\right) \\vee P\\left( E \\right)\\\\\n",
    "P\\left( C \\right) = P\\left( E \\right) + P\\left( E \\right) - P\\left( E \\right) \\times P\\left( E \\right)\\\\\n",
    "P\\left( C \\right) = 2 \\times P\\left( E \\right) - P{\\left( E \\right)^2}\\\\\n",
    "P\\left( C \\right) = 2 \\times \\frac{1}{{20,000}} - {\\left( {\\frac{1}{{20000}}} \\right)^2}\\\\\n",
    "P\\left( C \\right) = \\frac{1}{{10,000}} - \\frac{1}{{400,000,000}}\\\\\n",
    "P\\left( C \\right) \\cong 0.01\\% \\end{array}\n",
    "$$"
   ]
  },
  {
   "cell_type": "markdown",
   "metadata": {},
   "source": [
    "### Exercise 3"
   ]
  },
  {
   "cell_type": "markdown",
   "metadata": {},
   "source": [
    "> 4. What is the probability of either flipping two heads in two coin tosses or rolling three 6s on three six-sided dice?\n",
    "\n",
    "Let the following:\n",
    "1. $P(H)$: The probability of flipping heads, 50\\%\n",
    "2. $P(R)$: The probability of rolling a 6 on a six-sided die, 1/6\n",
    "\n",
    "First, determine the probability of flipping two heads: $P(H^2) = \\frac{1}{4}%$\n",
    "\n",
    "Next, determine the probability of rolling three sixes: $P(R^3) = \\frac{1}{6^3}=\\frac{1}{216}$\n",
    "\n",
    "Finally, determine the probability that either of those things happens, being careful not to double count the possibility that both happen:\n",
    "\n",
    "$$\n",
    "\\begin{array}{l}P\\left( {H,H \\vee R,R,R} \\right) = P\\left( {{H^2} \\vee {R^3}} \\right)\\\\P\\left( {{H^2} \\vee {R^3}} \\right) = P\\left( {{H^2}} \\right) + P\\left( {{R^3}} \\right) - P\\left( {{H^2}} \\right) \\times P\\left( {{R^3}} \\right)\\\\P\\left( {{H^2} \\vee {R^3}} \\right) = \\frac{1}{4} + \\frac{2}{{216}} - \\left( {\\frac{1}{4} \\times \\frac{1}{{216}}} \\right)\\\\P\\left( {{H^2} \\vee {R^3}} \\right) = \\frac{1}{4} + \\frac{2}{{216}} - \\left( {\\frac{1}{4} \\times \\frac{1}{{216}}} \\right)\\\\P\\left( {{H^2} \\vee {R^3}} \\right) = \\frac{{55}}{{216}} - \\left( {\\frac{1}{{864}}} \\right)\\\\P\\left( {{H^2} \\vee {R^3}} \\right) = \\frac{{55}}{{216}} - \\left( {\\frac{1}{{864}}} \\right)\\\\P\\left( {{H^2} \\vee {R^3}} \\right) = \\frac{{55}}{{216}} - \\left( {\\frac{1}{{864}}} \\right)\\\\P\\left( {{H^2} \\vee {R^3}} \\right) = \\frac{{73}}{{288}} \\cong 25.35\\% \\end{array}\n",
    "$$\n"
   ]
  }
 ],
 "metadata": {
  "kernelspec": {
   "display_name": "Python 3.11.0 ('venv': venv)",
   "language": "python",
   "name": "python3"
  },
  "language_info": {
   "name": "python",
   "version": "3.11.0"
  },
  "orig_nbformat": 4,
  "vscode": {
   "interpreter": {
    "hash": "aef0069fb6457d40f705e96319703b71b068eeda0380f823a1ec22e09fd88820"
   }
  }
 },
 "nbformat": 4,
 "nbformat_minor": 2
}
