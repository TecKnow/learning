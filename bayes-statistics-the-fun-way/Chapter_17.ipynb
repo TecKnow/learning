{
 "cells": [
  {
   "attachments": {},
   "cell_type": "markdown",
   "metadata": {},
   "source": [
    "# Chapter 17: Bayesian Reasoning in the Twilight Zone"
   ]
  },
  {
   "attachments": {},
   "cell_type": "markdown",
   "metadata": {},
   "source": [
    "## Examples"
   ]
  },
  {
   "attachments": {},
   "cell_type": "markdown",
   "metadata": {},
   "source": [
    "### Bayesian Reasoning in the Twilight Zone"
   ]
  },
  {
   "attachments": {},
   "cell_type": "markdown",
   "metadata": {},
   "source": [
    "Label the hypotheses:\n",
    "* $H$: The Mystic Seer truly can predict the future.\n",
    "* $\\overline{H}$: The Mystic Seer just got lucky\n",
    "\n",
    "Compute the likelihood ratio\n",
    "* $P(H) = 1$\n",
    "* $P(\\overline{H}) = \\frac{1}{2^n}$\n",
    "\n",
    "$$O(H)=\\frac{P(H)}{P(\\overline{H})} = \\frac{1}{\\frac{1}{2^n}}=2^n$$"
   ]
  },
  {
   "cell_type": "code",
   "execution_count": 14,
   "metadata": {},
   "outputs": [
    {
     "data": {
      "image/png": "[encoded data removed]",
      "text/plain": [
       "<Figure size 640x480 with 1 Axes>"
      ]
     },
     "metadata": {},
     "output_type": "display_data"
    }
   ],
   "source": [
    "import numpy as np\n",
    "import matplotlib.pyplot as plt\n",
    "\n",
    "fig, ax = plt.subplots(1,1)\n",
    "x = np.linspace(1, 10, 1_000)\n",
    "y = 2**(x)\n",
    "ax.plot(x, y)\n",
    "ax.grid(True)\n",
    "plt.show()\n"
   ]
  },
  {
   "attachments": {},
   "cell_type": "markdown",
   "metadata": {},
   "source": [
    "### Determine Prior Odds"
   ]
  },
  {
   "attachments": {},
   "cell_type": "markdown",
   "metadata": {},
   "source": [
    "| Posterior odds | Strenght of evidence |\n",
    "|---|---|\n",
    "| 1 to 3 | Interesting but nothing conclusive|\n",
    "| 3 to 20 | Looks like we're on to something | \n",
    "| 20 to 150 | Strong evidence in favor of $H_1$|\n",
    "| >150 | Overwhelming evidence |"
   ]
  },
  {
   "attachments": {},
   "cell_type": "markdown",
   "metadata": {},
   "source": [
    "#### Don"
   ]
  },
  {
   "attachments": {},
   "cell_type": "markdown",
   "metadata": {},
   "source": [
    "Don is superstitious, and is strongly convinced after 7 guesses.  We'll estimate his posterior odds after 7 guesses as 150, the threshold for very strong belief.\n",
    "$$\\begin{array}{l}150 = {O_D}\\left( H \\right) \\times \\frac{1}{{\\frac{1}{{{2^7}}}}}\\\\150 = {O_D}\\left( H \\right) \\times 128\\\\\\frac{{150}}{{128}} = {O_D}\\left( H \\right)\\\\{O_D}\\left( H \\right) = {\\rm{1}}{\\rm{.171875}}\\end{array}$$"
   ]
  },
  {
   "attachments": {},
   "cell_type": "markdown",
   "metadata": {},
   "source": [
    "#### Pat"
   ]
  },
  {
   "attachments": {},
   "cell_type": "markdown",
   "metadata": {},
   "source": [
    "Pat is skeptical but is beginning to show suspicion at 14 correct guesses.  The book estimates her posterior odds after 14 correct guesses as 5.\n",
    "\n",
    "$$\\begin{array}{l}5 = {O_P}\\left( H \\right) \\times \\frac{1}{{\\frac{1}{{{2^{14}}}}}}\\\\5 = {O_P}\\left( H \\right) \\times {2^{14}}\\\\5 = {O_P}\\left( H \\right) \\times 16384\\\\{O_P}\\left( H \\right) = \\frac{5}{{16384}} \\approx 0.00030517578125\\end{array}$$"
   ]
  },
  {
   "attachments": {},
   "cell_type": "markdown",
   "metadata": {},
   "source": [
    "## Exercises"
   ]
  },
  {
   "attachments": {},
   "cell_type": "markdown",
   "metadata": {},
   "source": [
    "1.  Every time you and your friend get together to watch movies, you flip a coin to determine who gets to choose the movie. Your friend always picks heads, and every Friday for 10 weeks, the coin lands on heads. You develop a hypothesis that the coin has two heads sides, rather than both a heads side and a tails side. Set up a Bayes factor for the hypothesis that the coin is a trick coin over the hypothesis that the coin is fair. What does this ratio alone suggest about whether or not your friend is cheating you? \n",
    "\n",
    "2.  Now imagine three cases: that your friend is a bit of a prankster, that your friend is honest most of the time but can occasionally be sneaky, and that your friend is very trustworthy. In each case, estimate some prior odds ratios for your hypothesis and compute the posterior odds. \n",
    "\n",
    "3.  Suppose you trust this friend deeply. Make the prior odds of them cheating 1/ 10,000. How many times would the coin have to land on heads before you feel unsure about their innocence— say, a posterior odds of 1? \n",
    "\n",
    "4.  Another friend of yours also hangs out with this same friend and, after only four weeks of the coin landing on heads, feels certain you’re both being cheated. This confidence implies a posterior odds of about 100. What value would you assign to this other friend’s prior belief that the first friend is a cheater?"
   ]
  },
  {
   "attachments": {},
   "cell_type": "markdown",
   "metadata": {},
   "source": [
    "### Exercise 1"
   ]
  },
  {
   "attachments": {},
   "cell_type": "markdown",
   "metadata": {},
   "source": [
    ">  1.  Every time you and your friend get together to watch movies, you flip a coin to determine who gets to choose the movie. Your friend always picks heads, and every Friday for 10 weeks, the coin lands on heads. You develop a hypothesis that the coin has two heads sides, rather than both a heads side and a tails side. Set up a Bayes factor for the hypothesis that the coin is a trick coin over the hypothesis that the coin is fair. What does this ratio alone suggest about whether or not your friend is cheating you? "
   ]
  },
  {
   "attachments": {},
   "cell_type": "markdown",
   "metadata": {},
   "source": [
    "#### Label the hypotheses"
   ]
  },
  {
   "attachments": {},
   "cell_type": "markdown",
   "metadata": {},
   "source": [
    "*  $H$: The coin is double-headed\n",
    "*  $\\neg H$: The coin is fair"
   ]
  },
  {
   "attachments": {},
   "cell_type": "markdown",
   "metadata": {},
   "source": [
    "### Find the Bayes factor"
   ]
  },
  {
   "attachments": {},
   "cell_type": "markdown",
   "metadata": {},
   "source": [
    "$$P(D|H) = 1$$\n",
    "$$P(D|\\neg H) = \\frac{1}{2^n}$$\n",
    "$$\\textrm{Bayes factor}=\\frac{1}{\\frac{1}{2^n}}=2^n$$\n",
    "$$\\textrm{Bayes factor}=\\frac{1}{\\frac{1}{2^10}}=2^{10}=1024$$"
   ]
  },
  {
   "attachments": {},
   "cell_type": "markdown",
   "metadata": {},
   "source": [
    "The Bayes factor for a double-headed coin vs a fair coin after 10 heads in a row is 1,024.  That is, in a vacuum, strong evidence that the friend is cherating."
   ]
  },
  {
   "attachments": {},
   "cell_type": "markdown",
   "metadata": {},
   "source": [
    "### Exercise 2"
   ]
  },
  {
   "attachments": {},
   "cell_type": "markdown",
   "metadata": {},
   "source": [
    "#### The friend is a bit of a prankster"
   ]
  },
  {
   "attachments": {},
   "cell_type": "markdown",
   "metadata": {},
   "source": [
    "I'd say that for pranks to be effective, they have to be at least a little bit surprising.  I'd guess that even a dedicated prankster can only prank 25% to 33% of the time before people stop playing along.  Let us use the strong case of a person pranks 1/3 of the time.\n",
    "\n",
    "$$O\\left( H \\right) = \\frac{H}{{\\neg H}} = \\frac{{\\frac{1}{3}}}{{\\frac{2}{3}}} = \\frac{1}{2}$$\n",
    "\n",
    "These prior odds still leave us with posterior odds of 512.  Unsurprisingly, the knowledge that your friend is a prankster doesn't strongly dilute your estimation that he might be pranking you.\n"
   ]
  },
  {
   "attachments": {},
   "cell_type": "markdown",
   "metadata": {},
   "source": [
    "#### The friend is honest most of the time but can occasionally be sneaky"
   ]
  },
  {
   "attachments": {},
   "cell_type": "markdown",
   "metadata": {},
   "source": [
    "Someone who is only \"occasionally sneaky\" would need to be less sneaky than even the most conservative trickster.  This could be as high as 10% of the time although I'd personally say it's probably more like 1% of the time.\n",
    "\n"
   ]
  },
  {
   "attachments": {},
   "cell_type": "markdown",
   "metadata": {},
   "source": [
    "$$O\\left( H \\right) = \\frac{H}{{\\neg H}} = \\frac{{\\frac{1}{{100}}}}{{\\frac{{99}}{{100}}}} = \\frac{1}{{99}} \\approx 0.010101$$"
   ]
  },
  {
   "attachments": {},
   "cell_type": "markdown",
   "metadata": {},
   "source": [
    "These prior odds leave us with posterior odds of about 10.34.  This might lead you to strongly suspect that your friend is pranking you, but you'd still be open to the possibility that they were not."
   ]
  },
  {
   "attachments": {},
   "cell_type": "markdown",
   "metadata": {},
   "source": [
    "#### Your friend is very trustworthy"
   ]
  },
  {
   "attachments": {},
   "cell_type": "markdown",
   "metadata": {},
   "source": [
    "For purposes of this discussion, we'll say that there's only a one in a thousand chance that your friend is pranking you if they're very trustworthy."
   ]
  },
  {
   "attachments": {},
   "cell_type": "markdown",
   "metadata": {},
   "source": [
    "With prior odds of one in a thousand, the posterior odds are about 1.0001, or only slightly better than even that your friend is cheating."
   ]
  },
  {
   "attachments": {},
   "cell_type": "markdown",
   "metadata": {},
   "source": [
    "### Exercise 3"
   ]
  },
  {
   "attachments": {},
   "cell_type": "markdown",
   "metadata": {},
   "source": [
    ">  3.  Suppose you trust this friend deeply. Make the prior odds of them cheating 1/ 10,000. How many times would the coin have to land on heads before you feel unsure about their innocence— say, a posterior odds of 1? "
   ]
  },
  {
   "attachments": {},
   "cell_type": "markdown",
   "metadata": {},
   "source": [
    "Answering this question is basically tyring to solve the following equation:\n",
    "\n",
    "$$\\begin{array}{l}1 = \\frac{1}{{10000}} \\times {2^n}\\\\10000 = {2^n}\\\\{\\log _2}\\left( {10000} \\right) = n\\end{array}$$\n",
    "\n",
    "So $n \\approx 13.2877$ which means you'd start to become unsure of your friend's innocence after the 14th heads in a row."
   ]
  },
  {
   "attachments": {},
   "cell_type": "markdown",
   "metadata": {},
   "source": [
    "### Exercise 4"
   ]
  },
  {
   "attachments": {},
   "cell_type": "markdown",
   "metadata": {},
   "source": [
    ">  4.  Another friend of yours also hangs out with this same friend and, after only four weeks of the coin landing on heads, feels certain you’re both being cheated. This confidence implies a posterior odds of about 100. What value would you assign to this other friend’s prior belief that the first friend is a cheater?"
   ]
  },
  {
   "attachments": {},
   "cell_type": "markdown",
   "metadata": {},
   "source": [
    "Since the text of the question says that your mutual friend thinks you're both being cheated, I'm going to assume he's accounting for all the heads flipped against you as well as himself.  That means $n=14$."
   ]
  },
  {
   "attachments": {},
   "cell_type": "markdown",
   "metadata": {},
   "source": [
    "$$\\begin{array}{l}100 = {O_F}\\left( H \\right) \\times {2^{14}}\\\\100 = {O_F}\\left( H \\right) \\times 16384\\\\\\frac{{100}}{{16384}} = {O_F}\\left( H \\right)\\\\{O_F}\\left( H \\right) = \\frac{{25}}{{4096}} \\approx 0.006\\end{array}$$"
   ]
  },
  {
   "attachments": {},
   "cell_type": "markdown",
   "metadata": {},
   "source": [
    "These prior odds land somewhere between \"trustworthy\" and \"occasionally sneaky\" being much closer to \"trustworthy.\""
   ]
  }
 ],
 "metadata": {
  "kernelspec": {
   "display_name": "venv",
   "language": "python",
   "name": "python3"
  },
  "language_info": {
   "codemirror_mode": {
    "name": "ipython",
    "version": 3
   },
   "file_extension": ".py",
   "mimetype": "text/x-python",
   "name": "python",
   "nbconvert_exporter": "python",
   "pygments_lexer": "ipython3",
   "version": "3.11.0 (main, Oct 24 2022, 18:26:48) [MSC v.1933 64 bit (AMD64)]"
  },
  "orig_nbformat": 4,
  "vscode": {
   "interpreter": {
    "hash": "aef0069fb6457d40f705e96319703b71b068eeda0380f823a1ec22e09fd88820"
   }
  }
 },
 "nbformat": 4,
 "nbformat_minor": 2
}
