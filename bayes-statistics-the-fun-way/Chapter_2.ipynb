{
 "cells": [
  {
   "cell_type": "markdown",
   "metadata": {},
   "source": [
    "#  Chapter 2: Measuring Uncertainty\n"
   ]
  },
  {
   "cell_type": "markdown",
   "metadata": {},
   "source": [
    "## Exercises"
   ]
  },
  {
   "cell_type": "markdown",
   "metadata": {},
   "source": [
    "\n",
    "1. What is the probability of rolling two six-sided dice and getting a value greater than 7?\n",
    "2. What is the probability of rolling three six-sided dice and getting a valuegreater than 7?\n",
    "3.  The yankees are playing the Red Sox.  You're a diehard Sox fan and bet your friend they'll win the game.  You'll pay your friend $\\$30$ if the Sox lose and your friend will have to pay you only $\\$5$ if the Sox win.  What is the probability you have intuitively assinged to the belief that the Red Sox will win?"
   ]
  },
  {
   "cell_type": "markdown",
   "metadata": {},
   "source": [
    "## Responses"
   ]
  },
  {
   "cell_type": "code",
   "execution_count": 7,
   "metadata": {},
   "outputs": [],
   "source": [
    "from fractions import Fraction\n",
    "from itertools import product\n",
    "\n",
    "d6 = range(1, 7)"
   ]
  },
  {
   "cell_type": "markdown",
   "metadata": {},
   "source": [
    "### Excercise 1"
   ]
  },
  {
   "cell_type": "markdown",
   "metadata": {},
   "source": [
    ">  1. What is the probability of rolling two six-sided dice and getting a value greater than 7?\n",
    "\n",
    "The most straightforward way to do this is to enumerate the set of all possible results, called $\\Omega$ and in this case containing all possible rolls of 2d6.  count the ones where the toal is greater than 7, and determine the proportion.  This is tedious to do by hand but can be calculated with the help of a spreadsheet, or in this case the Python code below."
   ]
  },
  {
   "cell_type": "code",
   "execution_count": 8,
   "metadata": {},
   "outputs": [
    {
     "name": "stdout",
     "output_type": "stream",
     "text": [
      "The probability of rolling > 7 on 2d6 is 5/12\n"
     ]
    }
   ],
   "source": [
    "two_d6_rolls = [((x+y), x, y) for x, y in product(d6, repeat=2)]\n",
    "two_d6_7up = [ s for s, *_ in two_d6_rolls if s > 7 ]\n",
    "two_d6_7up_probability = Fraction(len(two_d6_7up), len(two_d6_rolls))\n",
    "\n",
    "print(f\"The probability of rolling > 7 on 2d6 is {two_d6_7up_probability}\")"
   ]
  },
  {
   "cell_type": "markdown",
   "metadata": {},
   "source": [
    "###  Exercise 2"
   ]
  },
  {
   "cell_type": "markdown",
   "metadata": {},
   "source": [
    "\n",
    ">  2. What is the probability of rolling three six-sided dice and getting a valuegreater than 7?\n",
    "\n",
    "The most straightforward way to do this is to enumerate the set of all possible results, called $\\Omega$ and in this case containing all possible rolls of 3d6.  count the ones where the toal is greater than 7, and determine the proportion.  This is tedious to do by hand but can be calculated with the help of a spreadsheet, or in this case the Python code below."
   ]
  },
  {
   "cell_type": "code",
   "execution_count": 9,
   "metadata": {},
   "outputs": [
    {
     "name": "stdout",
     "output_type": "stream",
     "text": [
      "The probability of rolling > 7 on 3d6 is 181/216\n"
     ]
    }
   ],
   "source": [
    "three_d6_rolls = [((x+y+z), x, y, z) for x, y, z in product(d6, repeat=3)]\n",
    "three_d6_7_up = [s for s, *_ in three_d6_rolls if s > 7]\n",
    "three_d6_7_up_probability = Fraction(len(three_d6_7_up), len(three_d6_rolls))\n",
    "\n",
    "print(f\"The probability of rolling > 7 on 3d6 is {three_d6_7_up_probability}\")"
   ]
  },
  {
   "cell_type": "markdown",
   "metadata": {},
   "source": [
    "###  Exercise 3\n",
    "\n",
    "> 3.  The yankees are playing the Red Sox.  You're a diehard Sox fan and bet your friend they'll win the game.  You'll pay your friend $30 if the Sox lose and your friend will have to pay you only $5 if the Sox win.  What is the probability you have intuitively assinged to the belief that the Red Sox will win?\n",
    "\n",
    "Let the following:\n",
    "1.  $P(w)$: The probability that the Sox win\n",
    "2.  $P(\\neg w)$: The probability that the Sox lose\n",
    "\n",
    "Then determine the ratio of probabilities:\n",
    "\n",
    "$$\n",
    "\\frac{P(w)}{P(\\neg w)} = \\frac{\\$30}{\\$5} = 6\n",
    "$$\n",
    "\n",
    "Next, solve for $P(W)$\n",
    "\n",
    "$$\n",
    "P(w) = 6\\times P(\\neg w)\n",
    "$$\n",
    "\n",
    "$$\n",
    "P(w) = 6 \\times (1-P(w))\n",
    "$$\n",
    "\n",
    "$$\n",
    "P(w) = 6 - 6 \\times P(w)\n",
    "$$\n",
    "\n",
    "$$\n",
    "P(w) + 6 \\times P(w) = 6 \\cancel{ - 6 \\times P(w)} + \\cancel{ 6 \\times P(w)}\n",
    "$$\n",
    "\n",
    "$$\n",
    "7 \\times P(W) = 6\n",
    "$$\n",
    "\n",
    "$$\n",
    "P(W) = \\frac{6}{7} \\cong 86\\%\n",
    "$$\n",
    "\n"
   ]
  }
 ],
 "metadata": {
  "kernelspec": {
   "display_name": "Python 3.11.0 64-bit",
   "language": "python",
   "name": "python3"
  },
  "language_info": {
   "codemirror_mode": {
    "name": "ipython",
    "version": 3
   },
   "file_extension": ".py",
   "mimetype": "text/x-python",
   "name": "python",
   "nbconvert_exporter": "python",
   "pygments_lexer": "ipython3",
   "version": "3.11.0"
  },
  "orig_nbformat": 4,
  "vscode": {
   "interpreter": {
    "hash": "de6e453dc06a87eccf6eff33a2bd77cda58cde8f929c998ffeca58b02a287278"
   }
  }
 },
 "nbformat": 4,
 "nbformat_minor": 2
}
