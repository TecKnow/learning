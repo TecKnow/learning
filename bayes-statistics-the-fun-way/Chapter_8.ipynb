{
 "cells": [
  {
   "cell_type": "markdown",
   "metadata": {},
   "source": [
    "# Chapter 8: The Prior, Likelihood, and Posterior of Bayes' Theorem"
   ]
  },
  {
   "cell_type": "markdown",
   "metadata": {},
   "source": [
    "## Exercises"
   ]
  },
  {
   "cell_type": "markdown",
   "metadata": {},
   "source": [
    "1.  As mentioned, you might disagree with the original probability assigned to the liklihood:\n",
    "    $$\n",
    "        P \\left( {\\textrm{broken window, open front door, missing laptop} | \\textrm{robbed}} \\right) = \\frac{3}{10}\n",
    "    $$\n",
    "    How much does this change our strenght in believing $H_1$ over $H_2$?\n",
    "2.  How unlikely would you have to beleive being robbed is - our prior for $H_1$ - in order for the ratio of $H_1$ to $H_2$ to be even?"
   ]
  },
  {
   "cell_type": "markdown",
   "metadata": {},
   "source": [
    "## Bayes' Theorem"
   ]
  },
  {
   "cell_type": "markdown",
   "metadata": {},
   "source": [
    "$$\n",
    "P\\left({H | D} \\right) = \\frac{P\\left({H}\\right) \\times P\\left({D|H}\\right)}{P\\left( {D}\\right)}\n",
    "$$\n",
    "$$\n",
    "P\\left( {H|D} \\right) \\propto P\\left( H \\right) \\times P\\left( {D|H} \\right)\n",
    "$$"
   ]
  },
  {
   "cell_type": "markdown",
   "metadata": {},
   "source": [
    "## Responses"
   ]
  },
  {
   "cell_type": "markdown",
   "metadata": {},
   "source": [
    "### Exercise 1"
   ]
  },
  {
   "cell_type": "markdown",
   "metadata": {},
   "source": [
    "> 1. As mentioned, you might disagree with the original probability assigned to the liklihood:\n",
    ">  $$\n",
    "  P \\left( {\\textrm{broken window, open front door, missing laptop} | \\textrm{robbed}} \\right) = \\frac{3}{10}\n",
    ">  $$\n",
    ">  How much does this change our strenght in believing $H_1$ over $H_2$?"
   ]
  },
  {
   "cell_type": "markdown",
   "metadata": {},
   "source": [
    "Let the following:\n",
    "$$\n",
    "\\begin{array}{l}P\\left( {D|{H_1}} \\right) = x\\\\P\\left( {{H_1}} \\right) = \\frac{1}{{10,000}}\\\\P\\left( {D|{H_2}} \\right) = 1\\\\P\\left( {{H_2}} \\right) = \\frac{1}{{21,900,000}}\\end{array}\n",
    "$$\n",
    "Expanding the formula for the relative strenght of hypotheses we obtain the following:\n",
    "$$\n",
    "\\begin{array}{l}\\frac{{P\\left( {{H_1}|D} \\right)}}{{P\\left( {{H_2}|D} \\right)}} = \\frac{{P\\left( {{H_1}} \\right) \\times P\\left( {D|{H_1}} \\right)}}{{P\\left( {{H_2}} \\right) \\times P\\left( {D|{H_2}} \\right)}}\\\\\\frac{{P\\left( {{H_1}} \\right) \\times P\\left( {D|{H_1}} \\right)}}{{P\\left( {{H_2}} \\right) \\times P\\left( {D|{H_2}} \\right)}} = \\frac{{\\frac{1}{{10,000}} \\times x}}{{\\frac{1}{{21,900,000}} \\times 1}}\\\\\\frac{{\\frac{1}{{10,000}} \\times x}}{{\\frac{1}{{21,900,000}} \\times 1}} = 2190x\\\\\\frac{{P\\left( {{H_1}|D} \\right)}}{{P\\left( {{H_2}|D} \\right)}} = 2190 \\times P\\left( {D|{H_1}} \\right)\\end{array}\n",
    "$$\n",
    "\n",
    "The relative strenght of our confidence in $P(H_1|D)$ over $P(H_2|D) varies in direct proportion to our confidence in $P(D|H_1)$."
   ]
  },
  {
   "cell_type": "markdown",
   "metadata": {},
   "source": [
    "### Exercise 2"
   ]
  },
  {
   "cell_type": "markdown",
   "metadata": {},
   "source": [
    "> 2.  How unlikely would you have to beleive being robbed is - our prior for $H_1$ - in order for the ratio of $H_1$ to $H_2$ to be even?"
   ]
  },
  {
   "cell_type": "markdown",
   "metadata": {},
   "source": [
    "Let the following:\n",
    "\n",
    "$$\n",
    "\\begin{array}{l}P\\left( {D|{H_1}} \\right) = \\frac{3}{{10}}\\\\P\\left( {{H_1}} \\right) = x\\\\P\\left( {D|H2} \\right) = 1\\\\P\\left( {H2} \\right) = \\frac{1}{{21,900,000}}\\\\\\frac{{P\\left( {{H_1}} \\right) \\times P\\left( {D|{H_1}} \\right)}}{{P\\left( {{H_2}} \\right) \\times P\\left( {D|{H_2}} \\right)}} = 1\\end{array}\n",
    "$$\n",
    "\n",
    "Solve for $x$ as follows:\n",
    "\n",
    "$$\n",
    "\\begin{array}{l}\\frac{{P\\left( {{H_1}} \\right) \\times P\\left( {D|{H_1}} \\right)}}{{P\\left( {{H_2}} \\right) \\times P\\left( {D|{H_2}} \\right)}} = 1\\\\\\frac{{P\\left( {{H_1}} \\right) \\times P\\left( {D|{H_1}} \\right)}}{{P\\left( {{H_2}} \\right) \\times P\\left( {D|{H_2}} \\right)}} = \\frac{{x \\times \\frac{3}{{10}}}}{{\\frac{1}{{21,900,000}} \\times 1}}\\\\\\frac{{x \\times \\frac{3}{{10}}}}{{\\frac{1}{{21,900,000}} \\times 1}} = 1\\\\x = \\frac{1}{{6,750,000}} \\approx 1.522 \\times {10^{ - 7}}\\\\\\end{array}\n",
    "$$\n"
   ]
  },
  {
   "cell_type": "markdown",
   "metadata": {},
   "source": []
  }
 ],
 "metadata": {
  "kernelspec": {
   "display_name": "Python 3.11.0 ('venv': venv)",
   "language": "python",
   "name": "python3"
  },
  "language_info": {
   "codemirror_mode": {
    "name": "ipython",
    "version": 3
   },
   "file_extension": ".py",
   "mimetype": "text/x-python",
   "name": "python",
   "nbconvert_exporter": "python",
   "pygments_lexer": "ipython3",
   "version": "3.11.0"
  },
  "orig_nbformat": 4,
  "vscode": {
   "interpreter": {
    "hash": "aef0069fb6457d40f705e96319703b71b068eeda0380f823a1ec22e09fd88820"
   }
  }
 },
 "nbformat": 4,
 "nbformat_minor": 2
}
