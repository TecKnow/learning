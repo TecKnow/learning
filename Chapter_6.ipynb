{
 "cells": [
  {
   "cell_type": "markdown",
   "metadata": {},
   "source": [
    "# Chapter 6: Conditional Probability"
   ]
  },
  {
   "cell_type": "markdown",
   "metadata": {},
   "source": [
    "## Exercises"
   ]
  },
  {
   "cell_type": "markdown",
   "metadata": {},
   "source": [
    "1.  What piece of information would we need in order to use Bayes' theorem to determine the probability that someine in 2010 who had GBS _also_ had the flu vaccine that year?\n",
    "2.  What is the probability that a random person picked from the population is female and is _not_ color blind?\n",
    "3.  What is the probability that a male who received the flu vaccine in 2010 is either color blind or has GBS?"
   ]
  },
  {
   "cell_type": "markdown",
   "metadata": {},
   "source": [
    "## Responses"
   ]
  },
  {
   "cell_type": "markdown",
   "metadata": {},
   "source": [
    "### Bayes' Theorem"
   ]
  },
  {
   "cell_type": "markdown",
   "metadata": {},
   "source": [
    "$$\n",
    "p\\left( {A|B}\\right) = \\frac{P(A) \\times P(B|A)}{P(B)}\n",
    "$$"
   ]
  },
  {
   "cell_type": "markdown",
   "metadata": {},
   "source": [
    "### Exercise 1"
   ]
  },
  {
   "cell_type": "markdown",
   "metadata": {},
   "source": [
    "> 1.  What piece of information would we need in order to use Bayes' theorem to determine the probability that someine in 2010 who had GBS _also_ had the flu vaccine that year?"
   ]
  },
  {
   "cell_type": "markdown",
   "metadata": {},
   "source": [
    "Given the following:\n",
    "* $P(G)$: The population probability of contracting Guillain-Barre syndrome (GBS) in a given year.  2:100,000\n",
    "* $P(G|V)$: The probability of contracting GBS if you had a flu shot in 2010.  3:100,000\n",
    "\n",
    "We want to find $P(V|G)$.  Substituting into Bayes' Theorem we have the following:\n",
    "\n",
    "$$\n",
    "P(V|G) = \\frac{P(V) \\times P(G|V)}{P(G)}\n",
    "$$\n",
    "\n",
    "The unknown value on the right-hand side is $P(V)$ the proportion of the general population that was vaccinated."
   ]
  },
  {
   "cell_type": "markdown",
   "metadata": {},
   "source": [
    "### Exercise 2"
   ]
  },
  {
   "cell_type": "markdown",
   "metadata": {},
   "source": [
    "> 2.  What is the probability that a random person picked from the population is female and is _not_ color blind?"
   ]
  },
  {
   "cell_type": "markdown",
   "metadata": {},
   "source": [
    "Given the following:\n",
    "* $P(C)$: The proportion of the general population that is color blind. 0.0425\n",
    "* $P(C|F)$: The probability that someone is color blind given that they are female.  0.005\n",
    "* $P(C|M)$: The probability that someone is color blind given that they are male. 0.08\n",
    "* $P(F)$: The proportion of the population that is female $= P(M)$: The proportion of the population that is male $= 0.5$\n",
    "\n",
    "Find $P(F, \\neg C)$:\n",
    "\n",
    "$$\n",
    "P(F, \\neg C) = P(F) \\times P(\\neg C | F)\n",
    "$$\n",
    "\n",
    "$$\n",
    "P(F, \\neg C) = 0.5 \\times 0.995 = 0.4975\n",
    "$$"
   ]
  },
  {
   "cell_type": "markdown",
   "metadata": {},
   "source": [
    "### Exercise 3"
   ]
  },
  {
   "cell_type": "markdown",
   "metadata": {},
   "source": [
    "> 3.  What is the probability that a male who received the flu vaccine in 2010 is either color blind or has GBS?"
   ]
  },
  {
   "cell_type": "markdown",
   "metadata": {},
   "source": [
    "Find $P(G|V \\vee C|M)$\n",
    "* $P(G|V) = \\frac{3}{100,000}$\n",
    "* $P(C|M) = 0.08$\n",
    "\n",
    "$$\n",
    "P \\left( {G|V \\vee C|M} \\right) = P(G|V) + P(C|M) - P(G|V) \\times P(C|M) = \\frac{3}{100,000} + \\frac{8}{100} - \\frac{3}{100,000} \\times \\frac{8}{100}\\cong 0.08003\n",
    "$$"
   ]
  },
  {
   "cell_type": "markdown",
   "metadata": {},
   "source": []
  }
 ],
 "metadata": {
  "kernelspec": {
   "display_name": "Python 3.11.0 ('venv': venv)",
   "language": "python",
   "name": "python3"
  },
  "language_info": {
   "codemirror_mode": {
    "name": "ipython",
    "version": 3
   },
   "file_extension": ".py",
   "mimetype": "text/x-python",
   "name": "python",
   "nbconvert_exporter": "python",
   "pygments_lexer": "ipython3",
   "version": "3.11.0"
  },
  "orig_nbformat": 4,
  "vscode": {
   "interpreter": {
    "hash": "aef0069fb6457d40f705e96319703b71b068eeda0380f823a1ec22e09fd88820"
   }
  }
 },
 "nbformat": 4,
 "nbformat_minor": 2
}
